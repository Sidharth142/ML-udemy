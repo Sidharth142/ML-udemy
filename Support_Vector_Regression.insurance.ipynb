{
 "cells": [
  {
   "cell_type": "markdown",
   "id": "1e51a303-1245-4c9f-9694-dcbda4913537",
   "metadata": {},
   "source": [
    "# Support Vector Regression with Insurance Dataset(SVR)"
   ]
  },
  {
   "cell_type": "markdown",
   "id": "9ff1bda4-ca42-45b7-b5eb-54ef1e2da1da",
   "metadata": {},
   "source": [
    "## Importing the Libraries"
   ]
  },
  {
   "cell_type": "code",
   "execution_count": null,
   "id": "40d878c7-ef88-460d-ba72-11e4864b4d2c",
   "metadata": {},
   "outputs": [],
   "source": [
    "import numpy as np\n",
    "import matplotlib.pyplot as plt\n",
    "import pandas as pd"
   ]
  },
  {
   "cell_type": "markdown",
   "id": "656057c2-1e4c-4527-8993-00bc218ec7fd",
   "metadata": {},
   "source": [
    "## Importing the dataset"
   ]
  },
  {
   "cell_type": "code",
   "execution_count": 7,
   "id": "c9c556d9-12cd-4051-a746-67870c2432be",
   "metadata": {},
   "outputs": [],
   "source": [
    "dataset = pd.read_csv('Health_insurance.csv')\n",
    "X = dataset.iloc[:, :-1].values\n",
    "y = dataset.iloc[:, -1].values"
   ]
  },
  {
   "cell_type": "markdown",
   "id": "15aad580-34c0-4d0c-8a51-df407a39c441",
   "metadata": {},
   "source": [
    "## Encoding the datas"
   ]
  },
  {
   "cell_type": "code",
   "execution_count": 8,
   "id": "bebac5ab-4f4e-4adc-9618-51a460f9946b",
   "metadata": {},
   "outputs": [],
   "source": [
    "from sklearn.compose import ColumnTransformer\n",
    "from sklearn.preprocessing import OneHotEncoder\n",
    "ct = ColumnTransformer(transformers=[('encoder', OneHotEncoder(), [1,4,5])], remainder='passthrough')\n",
    "X = np.array(ct.fit_transform(X))"
   ]
  },
  {
   "cell_type": "code",
   "execution_count": 9,
   "id": "ea83d801-03dd-4b12-ad07-8087c6ae27d5",
   "metadata": {},
   "outputs": [
    {
     "name": "stdout",
     "output_type": "stream",
     "text": [
      "[[1.0 0.0 0.0 ... 19 27.9 0]\n",
      " [0.0 1.0 1.0 ... 18 33.77 1]\n",
      " [0.0 1.0 1.0 ... 28 33.0 3]\n",
      " ...\n",
      " [1.0 0.0 1.0 ... 18 36.85 0]\n",
      " [1.0 0.0 1.0 ... 21 25.8 0]\n",
      " [1.0 0.0 0.0 ... 61 29.07 0]]\n"
     ]
    }
   ],
   "source": [
    "print(X)"
   ]
  },
  {
   "cell_type": "markdown",
   "id": "d40bbcc1-33ed-4620-bd39-e03a20566d5d",
   "metadata": {},
   "source": [
    "## Splitting the dataset"
   ]
  },
  {
   "cell_type": "code",
   "execution_count": 10,
   "id": "371a9dae-aa35-4827-9881-ef4ead4f5af0",
   "metadata": {},
   "outputs": [],
   "source": [
    "from sklearn.model_selection import train_test_split\n",
    "X_train, X_test, y_train, y_test = train_test_split(X, y, test_size = 0.2, random_state = 0)"
   ]
  },
  {
   "cell_type": "markdown",
   "id": "d3b5b690-7f1e-4b5a-9b73-3b6ffeb50b81",
   "metadata": {},
   "source": [
    "## Feature scaling"
   ]
  },
  {
   "cell_type": "code",
   "execution_count": 11,
   "id": "08288e7e-ec94-46f2-9d9d-98e7d5dc16d7",
   "metadata": {},
   "outputs": [],
   "source": [
    "from sklearn.compose import ColumnTransformer \n",
    "from sklearn.preprocessing import  StandardScaler \n",
    "column_trans = ColumnTransformer(\n",
    "    [('scaler', StandardScaler(),[8,9,10])],\n",
    "    remainder='passthrough') \n",
    "X_train = column_trans.fit_transform(X_train)\n",
    "X_test =column_trans.fit_transform(X_test)"
   ]
  },
  {
   "cell_type": "markdown",
   "id": "318f1f55-5aa3-4dfa-b0da-6429425b60b3",
   "metadata": {},
   "source": [
    "## Training the dataset"
   ]
  },
  {
   "cell_type": "code",
   "execution_count": 12,
   "id": "ac6ed186-b2c7-44de-b41f-df118270a38a",
   "metadata": {},
   "outputs": [
    {
     "data": {
      "text/plain": [
       "SVR()"
      ]
     },
     "execution_count": 12,
     "metadata": {},
     "output_type": "execute_result"
    }
   ],
   "source": [
    "from sklearn.svm import SVR\n",
    "regressor = SVR(kernel = 'rbf')\n",
    "regressor.fit(X_train,y_train)"
   ]
  },
  {
   "cell_type": "markdown",
   "id": "12debef7-66c7-4279-b35f-4987bea7a046",
   "metadata": {},
   "source": [
    "## Predicting the results"
   ]
  },
  {
   "cell_type": "code",
   "execution_count": 13,
   "id": "1f52b987-39c1-41d5-9912-c28b7d5d8f50",
   "metadata": {},
   "outputs": [],
   "source": [
    "y_pred=regressor.predict(X_test)"
   ]
  },
  {
   "cell_type": "code",
   "execution_count": 14,
   "id": "026f8a3d-e8b9-4023-af74-342c00061309",
   "metadata": {},
   "outputs": [
    {
     "name": "stdout",
     "output_type": "stream",
     "text": [
      "[9446.51971212 9419.74816413 9466.34654717 9475.5542417  9437.04270819\n",
      " 9384.97973288 9348.86018949 9452.88529283 9404.92361666 9390.54166309\n",
      " 9408.19908712 9436.40839297 9397.86416891 9366.22603785 9413.98618748\n",
      " 9440.60377015 9470.40374911 9355.89850898 9387.01301341 9412.51453743\n",
      " 9471.43019604 9468.48324768 9458.34092364 9464.11151041 9352.81294362\n",
      " 9387.55260467 9391.066622   9413.62079777 9356.64790085 9418.91409724\n",
      " 9409.53443609 9480.80544581 9478.7785333  9462.02600478 9417.6749564\n",
      " 9358.68921024 9433.07076972 9425.68265211 9450.7675431  9346.0294036\n",
      " 9395.33504495 9353.10943427 9447.05954926 9487.32112679 9410.85456116\n",
      " 9355.45608687 9440.24169905 9395.33947208 9368.50975334 9459.43283722\n",
      " 9359.467643   9378.17060501 9469.5056026  9473.54353565 9462.77458895\n",
      " 9373.79556458 9362.08726957 9437.63787738 9434.57109629 9469.89007602\n",
      " 9343.63005689 9484.07856061 9469.98922616 9440.25162602 9446.88924063\n",
      " 9449.45096118 9408.53241754 9439.52962136 9368.96737757 9426.55514389\n",
      " 9478.61354529 9466.20979473 9405.87166766 9481.64425512 9471.54287769\n",
      " 9483.69203307 9417.12480422 9413.95039765 9440.80393329 9493.44974314\n",
      " 9472.76093813 9447.25641356 9348.4149609  9411.17412133 9467.43857893\n",
      " 9435.10863801 9392.0348929  9349.27343071 9470.83593415 9426.25826805\n",
      " 9410.07969394 9460.47759102 9392.07741975 9413.6058702  9386.70874481\n",
      " 9363.76832686 9492.67162824 9460.73454366 9368.02104675 9461.59532406\n",
      " 9349.57680535 9379.20180478 9360.50688457 9440.31299066 9455.28862784\n",
      " 9363.66707462 9452.32689556 9358.79079296 9479.92831303 9492.55918574\n",
      " 9444.34421778 9410.45932571 9427.66809708 9412.28742429 9476.0099256\n",
      " 9407.51053813 9353.96199016 9435.43674512 9474.81813087 9426.18159916\n",
      " 9461.55835744 9439.83468222 9477.45599247 9408.34694446 9401.16397779\n",
      " 9377.74220026 9471.33655865 9454.61761359 9478.65375481 9367.34878844\n",
      " 9410.54984619 9349.50515673 9374.372654   9443.62714476 9451.49383381\n",
      " 9429.96050917 9449.270774   9432.81450137 9473.3464907  9338.11382481\n",
      " 9342.49878716 9460.40332932 9442.92342133 9467.65995783 9362.54186359\n",
      " 9484.70781302 9476.07040171 9360.71927814 9360.40901984 9457.53623422\n",
      " 9384.19868539 9430.78788818 9454.84676438 9341.21830535 9374.31618837\n",
      " 9383.14298497 9341.13317    9340.8601056  9442.04319664 9439.29035347\n",
      " 9392.02352653 9473.82782197 9475.3664138  9449.16687095 9382.95728808\n",
      " 9411.58792246 9407.67920221 9393.6226499  9359.92097416 9375.4346211\n",
      " 9365.02812859 9364.96682279 9409.23362394 9361.95167103 9380.71948894\n",
      " 9409.66366729 9373.0483494  9387.67964868 9483.24756694 9352.32531485\n",
      " 9451.94660775 9404.05326745 9471.4665818  9357.04572517 9384.36222202\n",
      " 9495.64221242 9354.16997391 9334.4386283  9490.14556433 9448.22962519\n",
      " 9482.34928813 9352.44597364 9364.14989773 9464.18913146 9363.61623117\n",
      " 9346.82730118 9391.37432463 9409.82195773 9382.08623774 9350.91032485\n",
      " 9469.06702475 9496.63881747 9464.60228571 9431.65706525 9364.33032668\n",
      " 9468.76203542 9363.73868417 9451.65568251 9386.93265143 9396.06331564\n",
      " 9432.56403972 9492.26632117 9382.34463072 9346.6716473  9389.14030264\n",
      " 9353.84917205 9401.87802595 9375.00924771 9463.99010522 9407.03586145\n",
      " 9408.84013247 9410.83188984 9426.4433256  9359.07947899 9473.0252315\n",
      " 9481.13048415 9465.55116321 9464.6009931  9409.0821243  9350.34009419\n",
      " 9345.96782154 9439.14835872 9474.62374166 9407.72551776 9360.52056914\n",
      " 9401.06703767 9434.61834673 9417.09184284 9385.7898589  9449.89174294\n",
      " 9376.97002116 9429.06461053 9412.09382787 9411.72947967 9421.1758766\n",
      " 9455.37637983 9361.04119534 9409.71435846 9358.12440042 9399.4401585\n",
      " 9417.43456571 9494.62532251 9361.17236847 9386.82597405 9346.08594133\n",
      " 9360.95076677 9417.34840946 9359.98874293 9405.51455382 9352.63266444\n",
      " 9424.08292824 9472.6563514  9500.38783318 9483.5284381  9391.29075677\n",
      " 9468.48129454 9437.75922798 9427.75609357]\n"
     ]
    }
   ],
   "source": [
    "print(y_pred)"
   ]
  },
  {
   "cell_type": "code",
   "execution_count": null,
   "id": "123f1e41-bdc8-49af-9ee4-330a1cdd6240",
   "metadata": {},
   "outputs": [],
   "source": []
  }
 ],
 "metadata": {
  "kernelspec": {
   "display_name": "Python 3 (ipykernel)",
   "language": "python",
   "name": "python3"
  },
  "language_info": {
   "codemirror_mode": {
    "name": "ipython",
    "version": 3
   },
   "file_extension": ".py",
   "mimetype": "text/x-python",
   "name": "python",
   "nbconvert_exporter": "python",
   "pygments_lexer": "ipython3",
   "version": "3.9.7"
  }
 },
 "nbformat": 4,
 "nbformat_minor": 5
}
