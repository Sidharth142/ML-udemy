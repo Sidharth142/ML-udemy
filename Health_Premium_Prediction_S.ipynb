{
 "cells": [
  {
   "cell_type": "markdown",
   "id": "63e22891-50cc-44da-be6f-9c534cb1ff3e",
   "metadata": {},
   "source": [
    "# Health Premium Prediction-ML Regression"
   ]
  },
  {
   "cell_type": "markdown",
   "id": "76df2a53-5acc-4be0-bfbb-b2fca4f086c5",
   "metadata": {},
   "source": [
    "This model attempts to model different regression models and select a model using the R2 Score Method."
   ]
  },
  {
   "cell_type": "markdown",
   "id": "2d6bda74-b65c-439b-9d02-d5889f83d64a",
   "metadata": {},
   "source": [
    "Data Set:\n",
    "Independent Variables: age,sex,BMI,child,smoker,region\n",
    "Dependent variable : Charges"
   ]
  },
  {
   "cell_type": "code",
   "execution_count": 4,
   "id": "4a3ffa8d-e7a7-4bcf-9302-6614e8711a5d",
   "metadata": {},
   "outputs": [],
   "source": [
    "import numpy as np\n",
    "import matplotlib.pyplot as plt\n",
    "import pandas as pd"
   ]
  },
  {
   "cell_type": "markdown",
   "id": "665d5b0e-4017-441c-a646-2f80771e4ba1",
   "metadata": {
    "tags": []
   },
   "source": [
    "### Importing the dataset"
   ]
  },
  {
   "cell_type": "code",
   "execution_count": 5,
   "id": "e4828c68-f7b3-46c0-ada6-2ab7667f174b",
   "metadata": {},
   "outputs": [],
   "source": [
    "dataset = pd.read_csv('Health_insurance.csv')\n",
    "X = dataset.iloc[:, :-1].values\n",
    "y = dataset.iloc[:, -1].values"
   ]
  },
  {
   "cell_type": "markdown",
   "id": "e8f777c4-dd3f-4cf7-a3d3-521a3d7abce7",
   "metadata": {},
   "source": [
    "### For showing the headingd alone"
   ]
  },
  {
   "cell_type": "code",
   "execution_count": 6,
   "id": "5094a583-5fb5-4b90-9ae7-33519d1cbd0d",
   "metadata": {},
   "outputs": [
    {
     "data": {
      "text/html": [
       "<div>\n",
       "<style scoped>\n",
       "    .dataframe tbody tr th:only-of-type {\n",
       "        vertical-align: middle;\n",
       "    }\n",
       "\n",
       "    .dataframe tbody tr th {\n",
       "        vertical-align: top;\n",
       "    }\n",
       "\n",
       "    .dataframe thead th {\n",
       "        text-align: right;\n",
       "    }\n",
       "</style>\n",
       "<table border=\"1\" class=\"dataframe\">\n",
       "  <thead>\n",
       "    <tr style=\"text-align: right;\">\n",
       "      <th></th>\n",
       "      <th>age</th>\n",
       "      <th>sex</th>\n",
       "      <th>bmi</th>\n",
       "      <th>children</th>\n",
       "      <th>smoker</th>\n",
       "      <th>region</th>\n",
       "      <th>charges</th>\n",
       "    </tr>\n",
       "  </thead>\n",
       "  <tbody>\n",
       "    <tr>\n",
       "      <th>0</th>\n",
       "      <td>19</td>\n",
       "      <td>female</td>\n",
       "      <td>27.900</td>\n",
       "      <td>0</td>\n",
       "      <td>yes</td>\n",
       "      <td>southwest</td>\n",
       "      <td>16884.92400</td>\n",
       "    </tr>\n",
       "    <tr>\n",
       "      <th>1</th>\n",
       "      <td>18</td>\n",
       "      <td>male</td>\n",
       "      <td>33.770</td>\n",
       "      <td>1</td>\n",
       "      <td>no</td>\n",
       "      <td>southeast</td>\n",
       "      <td>1725.55230</td>\n",
       "    </tr>\n",
       "    <tr>\n",
       "      <th>2</th>\n",
       "      <td>28</td>\n",
       "      <td>male</td>\n",
       "      <td>33.000</td>\n",
       "      <td>3</td>\n",
       "      <td>no</td>\n",
       "      <td>southeast</td>\n",
       "      <td>4449.46200</td>\n",
       "    </tr>\n",
       "    <tr>\n",
       "      <th>3</th>\n",
       "      <td>33</td>\n",
       "      <td>male</td>\n",
       "      <td>22.705</td>\n",
       "      <td>0</td>\n",
       "      <td>no</td>\n",
       "      <td>northwest</td>\n",
       "      <td>21984.47061</td>\n",
       "    </tr>\n",
       "    <tr>\n",
       "      <th>4</th>\n",
       "      <td>32</td>\n",
       "      <td>male</td>\n",
       "      <td>28.880</td>\n",
       "      <td>0</td>\n",
       "      <td>no</td>\n",
       "      <td>northwest</td>\n",
       "      <td>3866.85520</td>\n",
       "    </tr>\n",
       "  </tbody>\n",
       "</table>\n",
       "</div>"
      ],
      "text/plain": [
       "   age     sex     bmi  children smoker     region      charges\n",
       "0   19  female  27.900         0    yes  southwest  16884.92400\n",
       "1   18    male  33.770         1     no  southeast   1725.55230\n",
       "2   28    male  33.000         3     no  southeast   4449.46200\n",
       "3   33    male  22.705         0     no  northwest  21984.47061\n",
       "4   32    male  28.880         0     no  northwest   3866.85520"
      ]
     },
     "execution_count": 6,
     "metadata": {},
     "output_type": "execute_result"
    }
   ],
   "source": [
    "dataset.head()"
   ]
  },
  {
   "cell_type": "markdown",
   "id": "a9ec31c1-d860-4d29-9140-6bf89438f219",
   "metadata": {},
   "source": [
    "### Checking for missing values:"
   ]
  },
  {
   "cell_type": "code",
   "execution_count": 7,
   "id": "b1a205b2-5ee9-407c-bebe-90de2b05fc83",
   "metadata": {},
   "outputs": [
    {
     "data": {
      "text/plain": [
       "age         0\n",
       "sex         0\n",
       "bmi         0\n",
       "children    0\n",
       "smoker      0\n",
       "region      0\n",
       "charges     0\n",
       "dtype: int64"
      ]
     },
     "execution_count": 7,
     "metadata": {},
     "output_type": "execute_result"
    }
   ],
   "source": [
    "dataset.isna().sum()"
   ]
  },
  {
   "cell_type": "markdown",
   "id": "91f1f8ce-f90f-4a39-8584-060c23c9bb2f",
   "metadata": {},
   "source": [
    "### Encoding the categorical datas:"
   ]
  },
  {
   "cell_type": "code",
   "execution_count": 8,
   "id": "299cf20a-d456-4374-9ef6-44cdca99caa5",
   "metadata": {},
   "outputs": [
    {
     "name": "stdout",
     "output_type": "stream",
     "text": [
      "['female' 'male']\n",
      "['yes' 'no']\n",
      "['southwest' 'southeast' 'northwest' 'northeast']\n"
     ]
    }
   ],
   "source": [
    "#to check unique elements in each column\n",
    "print(dataset.sex.unique())\n",
    "print(dataset.smoker.unique())\n",
    "print(dataset.region.unique())"
   ]
  },
  {
   "cell_type": "code",
   "execution_count": 9,
   "id": "3b334684-23cf-4b4d-9535-eb95556a106f",
   "metadata": {},
   "outputs": [],
   "source": [
    "from sklearn.compose import ColumnTransformer\n",
    "from sklearn.preprocessing import OneHotEncoder\n",
    "ct = ColumnTransformer(transformers=[('encoder', OneHotEncoder(), [1,4,5])], remainder='passthrough')\n",
    "X = np.array(ct.fit_transform(X))"
   ]
  },
  {
   "cell_type": "code",
   "execution_count": 10,
   "id": "1e1ec398-b1d8-4655-8e87-9029bad3c077",
   "metadata": {},
   "outputs": [
    {
     "name": "stdout",
     "output_type": "stream",
     "text": [
      "[[1.0 0.0 0.0 ... 19 27.9 0]\n",
      " [0.0 1.0 1.0 ... 18 33.77 1]\n",
      " [0.0 1.0 1.0 ... 28 33.0 3]\n",
      " ...\n",
      " [1.0 0.0 1.0 ... 18 36.85 0]\n",
      " [1.0 0.0 1.0 ... 21 25.8 0]\n",
      " [1.0 0.0 0.0 ... 61 29.07 0]]\n"
     ]
    }
   ],
   "source": [
    "print(X)"
   ]
  },
  {
   "cell_type": "code",
   "execution_count": 11,
   "id": "e336a240-cf2a-47c3-9eae-af627807b041",
   "metadata": {},
   "outputs": [
    {
     "name": "stdout",
     "output_type": "stream",
     "text": [
      "[[1.0 0.0 0.0 1.0 0.0 0.0 0.0 1.0 19 27.9 0]\n",
      " [0.0 1.0 1.0 0.0 0.0 0.0 1.0 0.0 18 33.77 1]\n",
      " [0.0 1.0 1.0 0.0 0.0 0.0 1.0 0.0 28 33.0 3]\n",
      " [0.0 1.0 1.0 0.0 0.0 1.0 0.0 0.0 33 22.705 0]\n",
      " [0.0 1.0 1.0 0.0 0.0 1.0 0.0 0.0 32 28.88 0]\n",
      " [1.0 0.0 1.0 0.0 0.0 0.0 1.0 0.0 31 25.74 0]\n",
      " [1.0 0.0 1.0 0.0 0.0 0.0 1.0 0.0 46 33.44 1]\n",
      " [1.0 0.0 1.0 0.0 0.0 1.0 0.0 0.0 37 27.74 3]\n",
      " [0.0 1.0 1.0 0.0 1.0 0.0 0.0 0.0 37 29.83 2]\n",
      " [1.0 0.0 1.0 0.0 0.0 1.0 0.0 0.0 60 25.84 0]]\n"
     ]
    }
   ],
   "source": [
    "print(X[ :10])"
   ]
  },
  {
   "cell_type": "markdown",
   "id": "5860e13d-19b2-4831-9213-d3b62325e4d2",
   "metadata": {},
   "source": [
    "### Splitting the dataset into training set and test set"
   ]
  },
  {
   "cell_type": "code",
   "execution_count": 12,
   "id": "564c02f1-dd3f-4f8b-bc44-0aaac27744e9",
   "metadata": {},
   "outputs": [],
   "source": [
    "from sklearn.model_selection import train_test_split\n",
    "X_train, X_test, y_train, y_test = train_test_split(X, y, test_size = 0.2, random_state = 1)"
   ]
  },
  {
   "cell_type": "markdown",
   "id": "e2e05fbc-2c24-447e-89fd-16c177fb03b5",
   "metadata": {},
   "source": [
    "### Feature scaling"
   ]
  },
  {
   "cell_type": "code",
   "execution_count": 13,
   "id": "82fcc537-a167-4aba-a7a7-eef9683bcfe0",
   "metadata": {},
   "outputs": [],
   "source": [
    "from sklearn.compose import ColumnTransformer \n",
    "from sklearn.preprocessing import  StandardScaler \n",
    "column_trans = ColumnTransformer(\n",
    "    [('scaler', StandardScaler(),[8,9,10])],\n",
    "    remainder='passthrough') \n",
    "X_train = column_trans.fit_transform(X_train)\n",
    "X_test =column_trans.fit_transform(X_test)"
   ]
  },
  {
   "cell_type": "markdown",
   "id": "97e19d62-8dde-418e-8d5f-60a833b90c41",
   "metadata": {},
   "source": [
    "### Training the Multiple Linear Regression model on the training set"
   ]
  },
  {
   "cell_type": "code",
   "execution_count": 14,
   "id": "2cf077d4-5b9f-4c24-9c98-eeed8808d1ec",
   "metadata": {},
   "outputs": [],
   "source": [
    "from sklearn.linear_model import LinearRegression\n",
    "ML_regressor = LinearRegression()\n",
    "ML_regressor.fit(X_train, y_train)\n",
    "y_pred_ML=ML_regressor.predict(X_test) #prediction of this model"
   ]
  },
  {
   "cell_type": "markdown",
   "id": "7cfa6c9a-934e-4c35-9882-e2bc2871c12a",
   "metadata": {},
   "source": [
    "### Training the Polynomial Regression model on the training set"
   ]
  },
  {
   "cell_type": "code",
   "execution_count": 15,
   "id": "292627b4-5905-4c88-ac4d-893cde824ae6",
   "metadata": {},
   "outputs": [],
   "source": [
    "from sklearn.preprocessing import PolynomialFeatures\n",
    "poly_reg = PolynomialFeatures(degree = 4)\n",
    "X_poly = poly_reg.fit_transform(X_train)\n",
    "PLR_regressor = LinearRegression()\n",
    "PLR_regressor.fit(X_poly,y_train)\n",
    "y_pred_PL=PLR_regressor.predict(poly_reg.transform(X_test)) #prediction of this model"
   ]
  },
  {
   "cell_type": "markdown",
   "id": "94d354ba-a47a-4d70-b296-c2f754dd4a40",
   "metadata": {},
   "source": [
    "### Training the Decision tree Regression model on the training set"
   ]
  },
  {
   "cell_type": "code",
   "execution_count": 16,
   "id": "7d786ebf-0990-4edf-95d8-23ec39bc202b",
   "metadata": {},
   "outputs": [],
   "source": [
    "from sklearn.tree import DecisionTreeRegressor\n",
    "regressor_DTR = DecisionTreeRegressor(random_state = 0)\n",
    "regressor_DTR.fit(X_train,y_train)\n",
    "y_pred_DTR=regressor_DTR.predict(X_test) #prediction of this model"
   ]
  },
  {
   "cell_type": "markdown",
   "id": "68524ac7-cb6b-4e86-b647-a1bf046f3373",
   "metadata": {},
   "source": [
    "### Training the SVR model on the training set"
   ]
  },
  {
   "cell_type": "code",
   "execution_count": 17,
   "id": "f5626008-c9c4-4a8c-9168-e709e9cbf738",
   "metadata": {},
   "outputs": [],
   "source": [
    "from sklearn.svm import SVR\n",
    "regressor_SVR = SVR(kernel = 'rbf')\n",
    "regressor_SVR.fit(X_train,y_train)\n",
    "y_pred_SVR=regressor_SVR.predict(X_test) #prediction of this model"
   ]
  },
  {
   "cell_type": "markdown",
   "id": "077f90fc-fc79-4a89-a0c8-008f706cc93f",
   "metadata": {},
   "source": [
    "### Training the Random forest model on the training set"
   ]
  },
  {
   "cell_type": "code",
   "execution_count": 18,
   "id": "d91a9246-3699-4fe8-bc1e-c86ba7dd419a",
   "metadata": {},
   "outputs": [],
   "source": [
    "from sklearn.ensemble import RandomForestRegressor\n",
    "regressor_RFR = RandomForestRegressor(random_state = 1)\n",
    "regressor_RFR.fit(X_train,y_train)\n",
    "y_pred_RFR=regressor_RFR .predict(X_test) #prediction of this model"
   ]
  },
  {
   "cell_type": "markdown",
   "id": "c2cc33ba-ac18-443d-9f5d-e59caad2a13a",
   "metadata": {},
   "source": [
    "### Finding R2 value of all the models"
   ]
  },
  {
   "cell_type": "code",
   "execution_count": 19,
   "id": "90abed42-acd7-45f9-ba22-7df442a9861b",
   "metadata": {},
   "outputs": [
    {
     "name": "stdout",
     "output_type": "stream",
     "text": [
      "Linear Regression r2:  0.7619582235838139 \n",
      "Polynomial Regression r2:  0.7766193618531445 \n",
      "RandomForest Regression r2:  0.8445791597633043 \n",
      "Decision Tree Regression r2:  0.6850864932338443 \n",
      "Support Vector Regression r2:  -0.11343477790480705\n"
     ]
    }
   ],
   "source": [
    "from sklearn.metrics import r2_score\n",
    "y_score_ML=r2_score(y_test,y_pred_ML)\n",
    "y_score_PL=r2_score(y_test,y_pred_PL)\n",
    "y_score_DTR=r2_score(y_test,y_pred_DTR)\n",
    "y_score_SVR=r2_score(y_test,y_pred_SVR)\n",
    "y_score_RFR=r2_score(y_test,y_pred_RFR)\n",
    "print(\"Linear Regression r2: \",y_score_ML,\"\\nPolynomial Regression r2: \",y_score_PL,\"\\nRandomForest Regression r2: \",y_score_RFR,\"\\nDecision Tree Regression r2: \",y_score_DTR,\"\\nSupport Vector Regression r2: \",y_score_SVR)"
   ]
  },
  {
   "cell_type": "markdown",
   "id": "e883ddb7-5344-4020-81fe-00ac4dc5a6ca",
   "metadata": {},
   "source": [
    "### Visualising the result"
   ]
  },
  {
   "cell_type": "code",
   "execution_count": 20,
   "id": "e50cc00d-18ad-495e-ac87-46eb483c91a5",
   "metadata": {},
   "outputs": [
    {
     "data": {
      "image/png": "[encoded data removed]",
      "text/plain": [
       "<Figure size 432x288 with 1 Axes>"
      ]
     },
     "metadata": {
      "needs_background": "light"
     },
     "output_type": "display_data"
    }
   ],
   "source": [
    "plt.plot(np.arange(0,1340,5),y_pred_RFR, color = 'blue')\n",
    "plt.scatter(np.arange(0,1340,5),y_test, color = 'red')\n",
    "plt.title('Predicted y_test vs y_test')\n",
    "plt.xlabel('Sl No')\n",
    "plt.ylabel('Predicted y_test vs y_test')\n",
    "plt.rcParams[\"figure.figsize\"] = (20,50)\n",
    "plt.show()"
   ]
  },
  {
   "cell_type": "markdown",
   "id": "17580937-deb2-4dbc-86fd-3c60a9de688c",
   "metadata": {},
   "source": [
    "### Comparing the results"
   ]
  },
  {
   "cell_type": "code",
   "execution_count": 21,
   "id": "621cf33b-e7ef-43d0-ad95-f4d50bcad3b9",
   "metadata": {},
   "outputs": [
    {
     "name": "stdout",
     "output_type": "stream",
     "text": [
      "        Predicted         Real\n",
      "0     1543.018215   1646.42970\n",
      "1    11444.513710  11353.22760\n",
      "2     8755.793276   8798.59300\n",
      "3    12301.531609  10381.47870\n",
      "4     2019.297038   2103.08000\n",
      "..            ...          ...\n",
      "263  41759.278261  40103.89000\n",
      "264  46237.669052  42983.45850\n",
      "265  45232.291521  44202.65360\n",
      "266   2121.131948   2136.88225\n",
      "267   5164.997103   5227.98875\n",
      "\n",
      "[268 rows x 2 columns]\n"
     ]
    }
   ],
   "source": [
    "comparison= np.concatenate((y_pred_RFR.reshape(len(y_pred_RFR),1), y_test.reshape(len(y_test),1)),1)\n",
    "comparison_data_frame = pd.DataFrame(comparison, columns = ['Predicted','Real'])\n",
    "print(comparison_data_frame)"
   ]
  },
  {
   "cell_type": "code",
   "execution_count": null,
   "id": "13911bfc-3909-4a38-9a2b-6933c0b50b43",
   "metadata": {},
   "outputs": [],
   "source": []
  }
 ],
 "metadata": {
  "kernelspec": {
   "display_name": "Python 3 (ipykernel)",
   "language": "python",
   "name": "python3"
  },
  "language_info": {
   "codemirror_mode": {
    "name": "ipython",
    "version": 3
   },
   "file_extension": ".py",
   "mimetype": "text/x-python",
   "name": "python",
   "nbconvert_exporter": "python",
   "pygments_lexer": "ipython3",
   "version": "3.9.7"
  }
 },
 "nbformat": 4,
 "nbformat_minor": 5
}
